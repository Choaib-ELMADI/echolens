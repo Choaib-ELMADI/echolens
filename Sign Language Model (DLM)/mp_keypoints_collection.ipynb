{
 "cells": [
  {
   "cell_type": "markdown",
   "id": "16c8e07e",
   "metadata": {},
   "source": [
    "# 1. Import Libraries:"
   ]
  },
  {
   "cell_type": "code",
   "execution_count": 1,
   "id": "bd21f445",
   "metadata": {},
   "outputs": [],
   "source": [
    "from matplotlib import pyplot as plt\n",
    "import mediapipe as mp\n",
    "import numpy as np\n",
    "import time\n",
    "import cv2\n",
    "import os\n",
    "from utils import *"
   ]
  },
  {
   "cell_type": "code",
   "execution_count": 2,
   "id": "10730092",
   "metadata": {},
   "outputs": [],
   "source": [
    "text_background = (198, 63, 88)  # PURPLE\n",
    "corner_color = (53, 53, 249)  # RED\n",
    "text_color = (239, 239, 239)  # WHITE\n",
    "border_color = (61, 147, 8)  # GREEN"
   ]
  },
  {
   "cell_type": "markdown",
   "id": "a1624880",
   "metadata": {},
   "source": [
    "# 5. Setup Folders for Collection:"
   ]
  },
  {
   "cell_type": "code",
   "execution_count": 3,
   "id": "2c0a84a0",
   "metadata": {},
   "outputs": [],
   "source": [
    "DATA_PATH = os.path.join(\"Data\")\n",
    "actions = np.array([\"Hello\", \"ThankYou\", \"Bye\", \"Nothing\"])\n",
    "no_sequences = 2\n",
    "sequence_length = 2"
   ]
  },
  {
   "cell_type": "code",
   "execution_count": 4,
   "id": "6cefe165",
   "metadata": {},
   "outputs": [],
   "source": [
    "for action in actions:\n",
    "    for sequence in range(no_sequences):\n",
    "        try:\n",
    "            os.makedirs(os.path.join(DATA_PATH, action, str(sequence)))\n",
    "        except:\n",
    "            pass"
   ]
  },
  {
   "cell_type": "markdown",
   "id": "8b795805",
   "metadata": {},
   "source": [
    "# 6. Collect MP Keypoints:"
   ]
  },
  {
   "cell_type": "code",
   "execution_count": 5,
   "id": "8a10f2aa",
   "metadata": {},
   "outputs": [
    {
     "name": "stderr",
     "output_type": "stream",
     "text": [
      "C:\\Users\\Choaib ELMADI\\Downloads\\D.I.F.Y\\Electronics\\Robotics\\6- EchoLens\\Sign Language Model (DLM)\\SignLangVenvDLM\\Lib\\site-packages\\google\\protobuf\\symbol_database.py:55: UserWarning: SymbolDatabase.GetPrototype() is deprecated. Please use message_factory.GetMessageClass() instead. SymbolDatabase.GetPrototype() will be removed soon.\n",
      "  warnings.warn('SymbolDatabase.GetPrototype() is deprecated. Please '\n"
     ]
    }
   ],
   "source": [
    "mp_holistic = mp.solutions.holistic # type: ignore\n",
    "model = mp_holistic.Holistic(min_detection_confidence=0.5, min_tracking_confidence=0.5)\n",
    "\n",
    "cap = cv2.VideoCapture(0)\n",
    "no_frames_counter = 0\n",
    "no_sequences_counter = 0\n",
    "current_action = \"Hello\" # Done Actions: ---\n",
    "\n",
    "while True:\n",
    "    _, image = cap.read()\n",
    "    # image = cv2.flip(image, 1)\n",
    "    \n",
    "    image, results = mediapipe_detections(image, model)\n",
    "    draw_landmarks(image, results, corner_color)\n",
    "    right_hand, left_hand = extract_keypoints(results)\n",
    "    \n",
    "    key = cv2.waitKey(1) & 0xFF\n",
    "    \n",
    "    if key == ord(\"s\"):\n",
    "        npy_path = os.path.join(DATA_PATH, current_action, str(no_sequences_counter), f\"{no_frames_counter}.npy\")\n",
    "        np.save(npy_path, right_hand)\n",
    "        no_frames_counter += 1\n",
    "        if no_frames_counter == sequence_length:\n",
    "            no_frames_counter = 0\n",
    "            no_sequences_counter += 1\n",
    "            if no_sequences_counter == no_sequences:\n",
    "                break\n",
    "    \n",
    "    cv2.putText(image, f\"Collecting Frames for '{current_action}'\", (15, 30), cv2.FONT_HERSHEY_SIMPLEX, 0.75, (255, 0, 0), 2, cv2.LINE_AA)\n",
    "    cv2.putText(image, f\"Video Num: {no_sequences_counter}\", (15, 70), cv2.FONT_HERSHEY_SIMPLEX, 0.75, (0, 255, 0), 2, cv2.LINE_AA)\n",
    "    cv2.putText(image, f\"Frame Num: {no_frames_counter}\", (15, 110), cv2.FONT_HERSHEY_SIMPLEX, 0.75, (0, 0, 255), 2, cv2.LINE_AA)\n",
    "    cv2.imshow(\"Image\", image)\n",
    "    \n",
    "    if key == ord(\"n\"):\n",
    "        cv2.imwrite(f\"image-{no_frames_counter}-{no_sequences_counter}.jpg\", image)\n",
    "    \n",
    "    if key == ord(\"q\"):\n",
    "        break\n",
    "    \n",
    "cap.release()\n",
    "cv2.destroyAllWindows()\n",
    "  "
   ]
  },
  {
   "cell_type": "code",
   "execution_count": 14,
   "id": "abeb475c",
   "metadata": {
    "collapsed": true
   },
   "outputs": [
    {
     "data": {
      "text/plain": [
       "array([ 2.63402075e-01,  7.07497239e-01,  9.38010658e-07,  3.25374395e-01,\n",
       "        7.11990833e-01, -2.10528299e-02,  4.14415359e-01,  6.65420473e-01,\n",
       "       -2.71106288e-02,  4.80023563e-01,  6.40623391e-01, -3.35213579e-02,\n",
       "        5.35662770e-01,  6.34087503e-01, -3.96459289e-02,  3.90714705e-01,\n",
       "        5.49722195e-01,  7.15054164e-04,  4.69632298e-01,  5.26557744e-01,\n",
       "       -2.94490773e-02,  5.39325893e-01,  5.26281774e-01, -5.58220521e-02,\n",
       "        5.93386233e-01,  5.30266702e-01, -7.14238808e-02,  3.77646446e-01,\n",
       "        5.24847567e-01, -4.66919085e-03,  4.68913496e-01,  5.04227757e-01,\n",
       "       -3.05986758e-02,  5.39888084e-01,  4.97682214e-01, -5.31947352e-02,\n",
       "        6.02143526e-01,  4.90801513e-01, -6.78040758e-02,  3.61051053e-01,\n",
       "        5.05471408e-01, -1.61063727e-02,  4.51101184e-01,  4.85817552e-01,\n",
       "       -4.22952399e-02,  5.23948133e-01,  4.81044948e-01, -5.76849766e-02,\n",
       "        5.85247993e-01,  4.78103399e-01, -6.58795238e-02,  3.39877993e-01,\n",
       "        4.89156067e-01, -3.02169882e-02,  4.16019797e-01,  4.75199312e-01,\n",
       "       -5.08814193e-02,  4.78254586e-01,  4.76770341e-01, -5.91714717e-02,\n",
       "        5.33283830e-01,  4.81596470e-01, -6.36342764e-02])"
      ]
     },
     "execution_count": 14,
     "metadata": {},
     "output_type": "execute_result"
    }
   ],
   "source": [
    "np.load(\"0.npy\")"
   ]
  }
 ],
 "metadata": {
  "kernelspec": {
   "display_name": "SignLangVenvDLM",
   "language": "python",
   "name": "signlangvenvdlm"
  },
  "language_info": {
   "codemirror_mode": {
    "name": "ipython",
    "version": 3
   },
   "file_extension": ".py",
   "mimetype": "text/x-python",
   "name": "python",
   "nbconvert_exporter": "python",
   "pygments_lexer": "ipython3",
   "version": "3.12.0"
  }
 },
 "nbformat": 4,
 "nbformat_minor": 5
}
