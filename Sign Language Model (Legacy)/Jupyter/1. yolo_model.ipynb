{
 "cells": [
  {
   "cell_type": "markdown",
   "id": "e0aa61fd",
   "metadata": {},
   "source": [
    "# Sign Language Model for 'EchoLens' Project:"
   ]
  },
  {
   "cell_type": "markdown",
   "id": "6dafd81b",
   "metadata": {},
   "source": [
    "# 1. Ultralytics Installation:"
   ]
  },
  {
   "cell_type": "code",
   "execution_count": null,
   "id": "3a3803f0",
   "metadata": {},
   "outputs": [],
   "source": [
    "!pip install ultralytics"
   ]
  },
  {
   "cell_type": "code",
   "execution_count": null,
   "id": "69bd7dcf",
   "metadata": {},
   "outputs": [],
   "source": [
    "from ultralytics import YOLO"
   ]
  },
  {
   "cell_type": "markdown",
   "id": "d6d26357",
   "metadata": {},
   "source": [
    "## Task types:\n",
    "### &emsp;&emsp; -Detection\n",
    "### &emsp;&emsp; -Classification\n",
    "### &emsp;&emsp; -Segmentation\n",
    "\n",
    "## Mode types:\n",
    "### &emsp;&emsp; -Predict\n",
    "### &emsp;&emsp; -Train"
   ]
  },
  {
   "cell_type": "code",
   "execution_count": null,
   "id": "f069c3ca",
   "metadata": {},
   "outputs": [],
   "source": [
    "!yolo task=detect mode=predict model=yolov8n.pt conf=0.5 source=\"https://imgd.aeplcdn.com/1280x720/n/cw/ec/154203/ford-aspire-car-roof14.jpeg\""
   ]
  },
  {
   "cell_type": "markdown",
   "id": "d12c477c",
   "metadata": {},
   "source": [
    "# 2. Cars Image Input:"
   ]
  },
  {
   "cell_type": "markdown",
   "id": "c834c902",
   "metadata": {},
   "source": [
    "![Cars Image Input](https://imgd.aeplcdn.com/1280x720/n/cw/ec/154203/ford-aspire-car-roof14.jpeg)"
   ]
  },
  {
   "cell_type": "markdown",
   "id": "64a938f8",
   "metadata": {},
   "source": [
    "# 3. Cars Image Output:"
   ]
  },
  {
   "cell_type": "markdown",
   "id": "36a8c7db",
   "metadata": {},
   "source": [
    "![Cars Image Output](Images/cars-image-output.jpeg)"
   ]
  }
 ],
 "metadata": {
  "kernelspec": {
   "display_name": "SignLangVenv",
   "language": "python",
   "name": "signlangvenv"
  },
  "language_info": {
   "codemirror_mode": {
    "name": "ipython",
    "version": 3
   },
   "file_extension": ".py",
   "mimetype": "text/x-python",
   "name": "python",
   "nbconvert_exporter": "python",
   "pygments_lexer": "ipython3",
   "version": "3.12.0"
  }
 },
 "nbformat": 4,
 "nbformat_minor": 5
}
