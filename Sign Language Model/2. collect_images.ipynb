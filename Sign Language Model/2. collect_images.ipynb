{
 "cells": [
  {
   "cell_type": "markdown",
   "id": "c0f95a05",
   "metadata": {},
   "source": [
    "# Sign Language Model for 'EchoLens' Project:"
   ]
  },
  {
   "cell_type": "markdown",
   "id": "1a6b5908",
   "metadata": {},
   "source": [
    "# 1. OpenCV Installation:"
   ]
  },
  {
   "cell_type": "code",
   "execution_count": 4,
   "id": "a2bca567",
   "metadata": {},
   "outputs": [
    {
     "name": "stdout",
     "output_type": "stream",
     "text": [
      "Requirement already satisfied: opencv-python in c:\\users\\choaib elmadi\\downloads\\d.i.f.y\\electronics\\robotics\\6- echolens\\sign language model\\signlangvenv\\lib\\site-packages (4.9.0.80)\n",
      "Requirement already satisfied: numpy>=1.21.2 in c:\\users\\choaib elmadi\\downloads\\d.i.f.y\\electronics\\robotics\\6- echolens\\sign language model\\signlangvenv\\lib\\site-packages (from opencv-python) (1.26.4)\n"
     ]
    },
    {
     "name": "stderr",
     "output_type": "stream",
     "text": [
      "\n",
      "[notice] A new release of pip is available: 23.2.1 -> 24.0\n",
      "[notice] To update, run: python.exe -m pip install --upgrade pip\n"
     ]
    }
   ],
   "source": [
    "!pip install opencv-python"
   ]
  },
  {
   "cell_type": "markdown",
   "id": "dcae95d5",
   "metadata": {},
   "source": [
    "# 2. Setup Variables / Directories:"
   ]
  },
  {
   "cell_type": "code",
   "execution_count": 5,
   "id": "5b519e71",
   "metadata": {},
   "outputs": [],
   "source": [
    "import uuid\n",
    "import time\n",
    "import cv2\n",
    "import os"
   ]
  },
  {
   "cell_type": "code",
   "execution_count": 8,
   "id": "c2f8d0db",
   "metadata": {},
   "outputs": [],
   "source": [
    "labels = ['thumbsup', 'thumbsdown', 'thankyou', 'livelong']\n",
    "data_folders = ['train', 'test', 'valid']\n",
    "images_number = 5"
   ]
  },
  {
   "cell_type": "code",
   "execution_count": 10,
   "id": "a42ed379",
   "metadata": {},
   "outputs": [],
   "source": [
    "IMAGES_PATH = os.path.join('Data')"
   ]
  },
  {
   "cell_type": "code",
   "execution_count": 11,
   "id": "8f98050b",
   "metadata": {},
   "outputs": [],
   "source": [
    "if not os.path.exists(IMAGES_PATH):\n",
    "         !mkdir {IMAGES_PATH}\n",
    "for folder in data_folders:\n",
    "    path = os.path.join(IMAGES_PATH, folder)\n",
    "    if not os.path.exists(path):\n",
    "        !mkdir {path}"
   ]
  },
  {
   "cell_type": "code",
   "execution_count": 12,
   "id": "352c9a5d",
   "metadata": {},
   "outputs": [],
   "source": [
    "for folder in data_folders:\n",
    "    for sub_folder in [\"images\", \"labels\"]:\n",
    "        path = os.path.join(IMAGES_PATH, folder, sub_folder)\n",
    "        if not os.path.exists(path):\n",
    "            !mkdir {path}"
   ]
  },
  {
   "cell_type": "markdown",
   "id": "c3a9ac9e",
   "metadata": {},
   "source": [
    "# 3. Images Collection:"
   ]
  },
  {
   "cell_type": "code",
   "execution_count": 25,
   "id": "a2729d62",
   "metadata": {},
   "outputs": [],
   "source": [
    "WIDTH = 640\n",
    "HEIGHT = 480"
   ]
  },
  {
   "cell_type": "code",
   "execution_count": 36,
   "id": "e453c7d0",
   "metadata": {
    "scrolled": true
   },
   "outputs": [
    {
     "name": "stdout",
     "output_type": "stream",
     "text": [
      "Collecting images for \"train\" folder\n",
      "Collecting image \"0\"\n",
      "Collecting image \"1\"\n",
      "Collecting image \"2\"\n",
      "Collecting image \"3\"\n",
      "Collecting image \"4\"\n",
      "Collecting images for \"test\" folder\n",
      "Collecting image \"0\"\n",
      "Collecting image \"1\"\n",
      "Collecting image \"2\"\n",
      "Collecting image \"3\"\n",
      "Collecting image \"4\"\n",
      "Collecting images for \"valid\" folder\n",
      "Collecting image \"0\"\n",
      "Collecting image \"1\"\n",
      "Collecting image \"2\"\n",
      "Collecting image \"3\"\n",
      "Collecting image \"4\"\n"
     ]
    }
   ],
   "source": [
    "for folder in data_folders:\n",
    "    cap = cv2.VideoCapture(0)\n",
    "    print(f'Collecting images for \"{folder}\" folder')\n",
    "    time.sleep(5)\n",
    "    for img_number in range(images_number):\n",
    "        print(f'Collecting image \"{img_number}\"')\n",
    "        _, frame = cap.read()\n",
    "        frame = cv2.resize(frame, (WIDTH, HEIGHT))\n",
    "        img_name = os.path.join(IMAGES_PATH, folder, 'images', f'{folder}__{str(uuid.uuid1())}.jpg')\n",
    "        cv2.imwrite(img_name, frame)\n",
    "        cv2.imshow('Frame', frame)\n",
    "        time.sleep(2)\n",
    "\n",
    "        if cv2.waitKey(1) & 0xFF == ord('q'):\n",
    "            break\n",
    "cap.release()\n",
    "cv2.destroyAllWindows()"
   ]
  },
  {
   "cell_type": "code",
   "execution_count": null,
   "id": "90824381",
   "metadata": {},
   "outputs": [],
   "source": []
  }
 ],
 "metadata": {
  "kernelspec": {
   "display_name": "SignLangVenv",
   "language": "python",
   "name": "signlangvenv"
  },
  "language_info": {
   "codemirror_mode": {
    "name": "ipython",
    "version": 3
   },
   "file_extension": ".py",
   "mimetype": "text/x-python",
   "name": "python",
   "nbconvert_exporter": "python",
   "pygments_lexer": "ipython3",
   "version": "3.12.0"
  }
 },
 "nbformat": 4,
 "nbformat_minor": 5
}
