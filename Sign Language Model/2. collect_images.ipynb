{
 "cells": [
  {
   "cell_type": "markdown",
   "id": "c0f95a05",
   "metadata": {},
   "source": [
    "# Sign Language Model for 'EchoLens' Project:"
   ]
  },
  {
   "cell_type": "markdown",
   "id": "1a6b5908",
   "metadata": {},
   "source": [
    "# 1. OpenCV Installation:"
   ]
  },
  {
   "cell_type": "code",
   "execution_count": 22,
   "id": "a2bca567",
   "metadata": {
    "collapsed": true
   },
   "outputs": [
    {
     "name": "stdout",
     "output_type": "stream",
     "text": [
      "Requirement already satisfied: opencv-python in c:\\users\\choaib elmadi\\anaconda3\\lib\\site-packages (4.9.0.80)"
     ]
    },
    {
     "name": "stderr",
     "output_type": "stream",
     "text": [
      "\n",
      "[notice] A new release of pip is available: 23.3.2 -> 24.0\n",
      "[notice] To update, run: python.exe -m pip install --upgrade pip\n"
     ]
    },
    {
     "name": "stdout",
     "output_type": "stream",
     "text": [
      "\n",
      "Requirement already satisfied: numpy>=1.21.2 in c:\\users\\choaib elmadi\\anaconda3\\lib\\site-packages (from opencv-python) (1.24.3)\n"
     ]
    }
   ],
   "source": [
    "!pip install opencv-python"
   ]
  },
  {
   "cell_type": "markdown",
   "id": "dcae95d5",
   "metadata": {},
   "source": [
    "# 2. Setup Variables / Directories:"
   ]
  },
  {
   "cell_type": "code",
   "execution_count": 2,
   "id": "5b519e71",
   "metadata": {},
   "outputs": [],
   "source": [
    "import uuid\n",
    "import cv2\n",
    "import os"
   ]
  },
  {
   "cell_type": "code",
   "execution_count": 3,
   "id": "c2f8d0db",
   "metadata": {},
   "outputs": [],
   "source": [
    "data_folders = ['train', 'test', 'valid']"
   ]
  },
  {
   "cell_type": "code",
   "execution_count": 4,
   "id": "a42ed379",
   "metadata": {},
   "outputs": [],
   "source": [
    "IMAGES_PATH = os.path.join('Data')"
   ]
  },
  {
   "cell_type": "code",
   "execution_count": 5,
   "id": "8f98050b",
   "metadata": {},
   "outputs": [],
   "source": [
    "if not os.path.exists(IMAGES_PATH):\n",
    "         !mkdir {IMAGES_PATH}\n",
    "for folder in data_folders:\n",
    "    path = os.path.join(IMAGES_PATH, folder)\n",
    "    if not os.path.exists(path):\n",
    "        !mkdir {path}"
   ]
  },
  {
   "cell_type": "code",
   "execution_count": 6,
   "id": "352c9a5d",
   "metadata": {},
   "outputs": [],
   "source": [
    "for folder in data_folders:\n",
    "    for sub_folder in [\"images\", \"labels\"]:\n",
    "        path = os.path.join(IMAGES_PATH, folder, sub_folder)\n",
    "        if not os.path.exists(path):\n",
    "            !mkdir {path}"
   ]
  },
  {
   "cell_type": "markdown",
   "id": "c3a9ac9e",
   "metadata": {},
   "source": [
    "# 3. Images Collection:"
   ]
  },
  {
   "cell_type": "code",
   "execution_count": 7,
   "id": "a2729d62",
   "metadata": {},
   "outputs": [],
   "source": [
    "WIDTH = 640\n",
    "HEIGHT = 480"
   ]
  },
  {
   "cell_type": "code",
   "execution_count": 37,
   "id": "e453c7d0",
   "metadata": {
    "collapsed": true
   },
   "outputs": [
    {
     "ename": "error",
     "evalue": "OpenCV(4.9.0) D:\\a\\opencv-python\\opencv-python\\opencv\\modules\\imgproc\\src\\resize.cpp:4152: error: (-215:Assertion failed) !ssize.empty() in function 'cv::resize'\n",
     "output_type": "error",
     "traceback": [
      "\u001b[1;31m---------------------------------------------------------------------------\u001b[0m",
      "\u001b[1;31merror\u001b[0m                                     Traceback (most recent call last)",
      "Cell \u001b[1;32mIn[37], line 10\u001b[0m\n\u001b[0;32m      8\u001b[0m \u001b[38;5;28;01mwhile\u001b[39;00m \u001b[38;5;28;01mTrue\u001b[39;00m:\n\u001b[0;32m      9\u001b[0m     _, frame \u001b[38;5;241m=\u001b[39m cap\u001b[38;5;241m.\u001b[39mread()\n\u001b[1;32m---> 10\u001b[0m     frame \u001b[38;5;241m=\u001b[39m \u001b[43mcv2\u001b[49m\u001b[38;5;241;43m.\u001b[39;49m\u001b[43mresize\u001b[49m\u001b[43m(\u001b[49m\u001b[43mframe\u001b[49m\u001b[43m,\u001b[49m\u001b[43m \u001b[49m\u001b[43m(\u001b[49m\u001b[43mWIDTH\u001b[49m\u001b[43m,\u001b[49m\u001b[43m \u001b[49m\u001b[43mHEIGHT\u001b[49m\u001b[43m)\u001b[49m\u001b[43m)\u001b[49m\n\u001b[0;32m     11\u001b[0m     cv2\u001b[38;5;241m.\u001b[39mimshow(\u001b[38;5;124m'\u001b[39m\u001b[38;5;124mFrame\u001b[39m\u001b[38;5;124m'\u001b[39m, frame)\n\u001b[0;32m     13\u001b[0m     key \u001b[38;5;241m=\u001b[39m cv2\u001b[38;5;241m.\u001b[39mwaitKey(\u001b[38;5;241m1\u001b[39m) \u001b[38;5;241m&\u001b[39m \u001b[38;5;241m0xFF\u001b[39m\n",
      "\u001b[1;31merror\u001b[0m: OpenCV(4.9.0) D:\\a\\opencv-python\\opencv-python\\opencv\\modules\\imgproc\\src\\resize.cpp:4152: error: (-215:Assertion failed) !ssize.empty() in function 'cv::resize'\n"
     ]
    }
   ],
   "source": [
    "stream_url = \"http://192.168.169.196\" + \":81/stream\"\n",
    "cap = cv2.VideoCapture(stream_url)\n",
    "\n",
    "                         # 1033        585       591\n",
    "current_folder = \"train\" # train: 100, test: 60, valid: 60\n",
    "current_sign = \"point\" # you, yes, whatareyoudoing, trybeing, tomeet, thankyou, takecare, sameasyou, question\n",
    "\n",
    "while True:\n",
    "    _, frame = cap.read()\n",
    "    frame = cv2.resize(frame, (WIDTH, HEIGHT))\n",
    "    cv2.imshow('Frame', frame)\n",
    "    \n",
    "    key = cv2.waitKey(1) & 0xFF\n",
    "    \n",
    "    if key == ord('s'):\n",
    "        img_name = os.path.join(IMAGES_PATH, current_folder, 'images', f'{current_folder}__{str(uuid.uuid1())}.jpg')\n",
    "        cv2.imwrite(img_name, frame)\n",
    "    \n",
    "    if key == ord('q'):\n",
    "        break\n",
    "            \n",
    "cap.release()\n",
    "cv2.destroyAllWindows()"
   ]
  },
  {
   "cell_type": "code",
   "execution_count": null,
   "id": "90824381",
   "metadata": {},
   "outputs": [],
   "source": []
  }
 ],
 "metadata": {
  "kernelspec": {
   "display_name": "SignLangVenv",
   "language": "python",
   "name": "signlangvenv"
  },
  "language_info": {
   "codemirror_mode": {
    "name": "ipython",
    "version": 3
   },
   "file_extension": ".py",
   "mimetype": "text/x-python",
   "name": "python",
   "nbconvert_exporter": "python",
   "pygments_lexer": "ipython3",
   "version": "3.12.0"
  }
 },
 "nbformat": 4,
 "nbformat_minor": 5
}
